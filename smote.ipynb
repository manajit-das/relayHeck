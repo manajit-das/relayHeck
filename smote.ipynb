{
 "cells": [
  {
   "cell_type": "code",
   "execution_count": 1,
   "id": "4e9ae5e9",
   "metadata": {},
   "outputs": [],
   "source": [
    "#import the necessary libraries\n",
    "import os\n",
    "import numpy as np\n",
    "from sklearn.preprocessing import normalize\n",
    "from sklearn.utils import shuffle \n",
    "import math \n",
    "from sklearn.ensemble import RandomForestRegressor\n",
    "from numpy import inf\n",
    "from imblearn.over_sampling import SMOTE\n",
    "from imblearn.over_sampling import BorderlineSMOTE\n",
    "from imblearn.over_sampling import SVMSMOTE\n",
    "from imblearn.over_sampling import ADASYN\n",
    "import pandas as pd\n",
    "from pandas import DataFrame\n",
    "import warnings\n",
    "warnings.filterwarnings(\"ignore\")"
   ]
  },
  {
   "cell_type": "code",
   "execution_count": 4,
   "id": "0306a2cd",
   "metadata": {},
   "outputs": [],
   "source": [
    "#read your data file; only experimental with the last column containing output\n",
    "df=pd.read_csv('ExpDataMatrix.csv')"
   ]
  },
  {
   "cell_type": "code",
   "execution_count": 5,
   "id": "0b2d4d2d",
   "metadata": {},
   "outputs": [],
   "source": [
    "#add a column name label with the required condition\n",
    "label=[]\n",
    "for i in df['ee']:\n",
    "    if i <=60:\n",
    "        label.append(1)\n",
    "    else:\n",
    "        label.append(0)\n",
    "df['label']=label"
   ]
  },
  {
   "cell_type": "code",
   "execution_count": 6,
   "id": "627e5f28",
   "metadata": {},
   "outputs": [
    {
     "data": {
      "text/plain": [
       "(258, 139)"
      ]
     },
     "execution_count": 6,
     "metadata": {},
     "output_type": "execute_result"
    }
   ],
   "source": [
    "df.shape #check the dataframe shape"
   ]
  },
  {
   "cell_type": "code",
   "execution_count": 7,
   "id": "16607a4b",
   "metadata": {},
   "outputs": [
    {
     "name": "stdout",
     "output_type": "stream",
     "text": [
      "(1, 494, 138)\n"
     ]
    }
   ],
   "source": [
    "global num_features\n",
    "global crossvalidate_k \n",
    "\n",
    "#crossvalidate_k = 7 #number of folds for cross-validation\n",
    "mydata=df.to_numpy()\n",
    "num_features = len(mydata[0])-1\n",
    "features = mydata[:,0:num_features]\n",
    "class_output = mydata[:,num_features:]\n",
    "#print(class_output)\n",
    "# Apply regular SMOTE\n",
    "X = features\n",
    "y = class_output\n",
    "sm = BorderlineSMOTE(kind='borderline-2', random_state=42)\n",
    "#sm=SVMSMOTE(random_state=42) #other hyperparameters are defualt\n",
    "#sm=ADASYN(random_state=42) #other hyperparameters are default\n",
    "X_resampled = []\n",
    "y_resampled = []\n",
    "X_res_vis = []\n",
    "#for method in sm:\n",
    "X_res, y_res = sm.fit_resample(X, y)\n",
    "X_resampled.append(X_res)\n",
    "y_resampled.append(y_res)\n",
    "#X_res_vis.append(pca.transform(X_res))\n",
    "print(np.shape(X_resampled))\n",
    "added_data=pd.DataFrame(data=X_resampled[0], columns=list(df.columns[:-1]))\n",
    "added_data.to_csv('mixedDataset.csv', index=False) #put your filename as per your wish\n"
   ]
  },
  {
   "cell_type": "code",
   "execution_count": null,
   "id": "4d1f3b9c",
   "metadata": {},
   "outputs": [],
   "source": []
  }
 ],
 "metadata": {
  "kernelspec": {
   "display_name": "Python 3",
   "language": "python",
   "name": "python3"
  },
  "language_info": {
   "codemirror_mode": {
    "name": "ipython",
    "version": 3
   },
   "file_extension": ".py",
   "mimetype": "text/x-python",
   "name": "python",
   "nbconvert_exporter": "python",
   "pygments_lexer": "ipython3",
   "version": "3.6.12"
  }
 },
 "nbformat": 4,
 "nbformat_minor": 5
}
