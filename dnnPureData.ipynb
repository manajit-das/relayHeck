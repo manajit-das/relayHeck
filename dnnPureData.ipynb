{
 "cells": [
  {
   "cell_type": "code",
   "execution_count": 3,
   "id": "93263aad",
   "metadata": {},
   "outputs": [],
   "source": [
    "#import the necessary modules/libraries\n",
    "import os\n",
    "import numpy as np\n",
    "from math import sqrt\n",
    "import matplotlib.pyplot as plt\n",
    "import matplotlib.colors\n",
    "import pandas as pd\n",
    "from sklearn.model_selection import train_test_split\n",
    "from sklearn.metrics import accuracy_score, mean_squared_error, log_loss, r2_score\n",
    "from tqdm import tqdm_notebook\n",
    "import time\n",
    "from IPython.display import HTML\n",
    "import warnings\n",
    "warnings.filterwarnings('ignore')\n",
    "import torch\n",
    "import torch.nn as nn\n",
    "from torch import optim\n",
    "import torch.nn.functional as F  \n",
    "from tqdm.notebook import tqdm\n",
    "from torch.utils.data import Dataset, DataLoader\n",
    "from sklearn.model_selection import train_test_split\n",
    "import csv"
   ]
  },
  {
   "cell_type": "code",
   "execution_count": 4,
   "id": "073fd18b",
   "metadata": {},
   "outputs": [],
   "source": [
    "#Read the experimental dataset"
   ]
  },
  {
   "cell_type": "code",
   "execution_count": 5,
   "id": "b304ebb7",
   "metadata": {},
   "outputs": [],
   "source": [
    "df=pd.read_csv('ExpDataMatrix.csv') # reading the only experimental dataset"
   ]
  },
  {
   "cell_type": "code",
   "execution_count": 6,
   "id": "a2271461",
   "metadata": {},
   "outputs": [
    {
     "data": {
      "text/plain": [
       "(258, 138)"
      ]
     },
     "execution_count": 6,
     "metadata": {},
     "output_type": "execute_result"
    }
   ],
   "source": [
    "df.shape #check the dataset shape; 258 reactions and 137 features with one output column"
   ]
  },
  {
   "cell_type": "code",
   "execution_count": 7,
   "id": "7260bedf",
   "metadata": {},
   "outputs": [],
   "source": [
    "#Build your model\n",
    "class NN(nn.Module):\n",
    "    def __init__(self):\n",
    "        super().__init__()\n",
    "        torch.manual_seed(0)\n",
    "        self.regressor = nn.Sequential(\n",
    "            nn.Linear(137, 150),\n",
    "            nn.ReLU(),\n",
    "            nn.Linear(150, 100),\n",
    "            nn.ReLU(),\n",
    "            nn.Linear(100, 50),\n",
    "            nn.ReLU(),\n",
    "            nn.Linear(50, 10),\n",
    "            nn.ReLU(),\n",
    "            nn.Linear(10, 1)\n",
    "            \n",
    "        )\n",
    "\n",
    "    def forward(self, x):\n",
    "        x = self.regressor(x)\n",
    "        return x"
   ]
  },
  {
   "cell_type": "code",
   "execution_count": 9,
   "id": "2bc091df",
   "metadata": {},
   "outputs": [],
   "source": [
    "def expDataSet(seed, df1):\n",
    "    \"\"\"Given a seed value and the dataset it returns \n",
    "    seed value, train, validation and test rmses\"\"\"\n",
    "    exp_feat=df1.iloc[:, :-1]\n",
    "    exp_ee=df1.iloc[:, -1]\n",
    "    X_exp_train, X_test, y_exp_train, y_test = train_test_split(exp_feat, exp_ee, test_size=0.2, random_state=seed)\n",
    "    #test set is ready; i.e. X_test and y_test\n",
    "    ind_val=X_test.index #just noting the index of the test set for future\n",
    "    # further divide the training set into train and validation set\n",
    "    X_train, X_val, y_train, y_val=train_test_split(X_exp_train, y_exp_train, test_size=0.2, random_state=0)\n",
    "    #convert all of them to tensors\n",
    "    X_train=torch.FloatTensor(X_train.values)\n",
    "    X_val=torch.FloatTensor(X_val.values)\n",
    "    y_train=torch.FloatTensor(y_train.values)\n",
    "    y_val=torch.FloatTensor(y_val.values)\n",
    "    X_test=torch.FloatTensor(X_test.values)\n",
    "    y_test=torch.FloatTensor(y_test.values)\n",
    "    #Instantiate the model\n",
    "    model=NN()\n",
    "    criterion=torch.nn.MSELoss()\n",
    "    optimizer=torch.optim.Adam(model.parameters(), lr=0.001)\n",
    "    model.train()\n",
    "    epoch=1000\n",
    "    loss_arr=[]\n",
    "    loss_val_arr=[]\n",
    "    for epoch in range(epoch):\n",
    "        optimizer.zero_grad()\n",
    "        #Forward pass\n",
    "        y_pred=model(X_train)\n",
    "        #compute loss\n",
    "        loss=criterion(y_pred.squeeze(), y_train)\n",
    "        loss_arr.append(loss.item())\n",
    "        #print('Epoch {}: train loss: {}'.format(epoch, loss.item()))\n",
    "        #Backward pass\n",
    "        loss.backward()\n",
    "        optimizer.step()\n",
    "        \n",
    "        with torch.no_grad():\n",
    "            model.eval()\n",
    "            y_pred_val=model(X_val) #feed the X_val to the model to predict\n",
    "            loss_val=criterion(y_pred_val.squeeze(), y_val) #calculate mse for validation set\n",
    "            loss_val_arr.append(loss_val.item())\n",
    "            #print('Epoch {}: val loss: {}'.format(epoch, loss_val.item()))\n",
    "    \n",
    "    #Now evaluate the test set\n",
    "    model.eval()\n",
    "    y_pred = model(X_test) #feed the X_test to model to predict output\n",
    "    after_train = criterion(y_pred.squeeze(), y_test) #calculate test mse\n",
    "    test_rmse=sqrt(after_train) #calculate test rmse\n",
    "    \n",
    "    y_pred=y_pred.detach().numpy()\n",
    "    y_pred=y_pred.reshape(-1)\n",
    "    #dfOutput=pd.DataFrame(zip(ind_val, y_test.numpy(), y_pred), columns=['ind', 'y_test', 'y_pred'])\n",
    "    #dfOutput.to_csv('predOutputSeed.csv', index=False) #to save the result\n",
    "    return seed, sqrt(loss_arr[-1]), sqrt(loss_val_arr[-1]), test_rmse "
   ]
  },
  {
   "cell_type": "code",
   "execution_count": 10,
   "id": "0a592c1f",
   "metadata": {},
   "outputs": [],
   "source": [
    "#run it for hundred different seed values\n",
    "result=[]\n",
    "for i in range(0, 100):\n",
    "    result.append(expDataSet(i,df)) "
   ]
  },
  {
   "cell_type": "code",
   "execution_count": 11,
   "id": "499ed92d",
   "metadata": {},
   "outputs": [],
   "source": [
    "#save the result into a dataframe \n",
    "dfresult=pd.DataFrame(result, columns=['seed', 'train_rmse', 'val_rmse', 'test_rmse'])"
   ]
  },
  {
   "cell_type": "code",
   "execution_count": null,
   "id": "0c760632",
   "metadata": {},
   "outputs": [],
   "source": [
    "#to save the dataframe into a csv file\n",
    "#dfresult.to_csv('dnnResultExpData.csv', index=False)"
   ]
  },
  {
   "cell_type": "code",
   "execution_count": 12,
   "id": "e119e309",
   "metadata": {},
   "outputs": [
    {
     "data": {
      "text/html": [
       "<div>\n",
       "<style scoped>\n",
       "    .dataframe tbody tr th:only-of-type {\n",
       "        vertical-align: middle;\n",
       "    }\n",
       "\n",
       "    .dataframe tbody tr th {\n",
       "        vertical-align: top;\n",
       "    }\n",
       "\n",
       "    .dataframe thead th {\n",
       "        text-align: right;\n",
       "    }\n",
       "</style>\n",
       "<table border=\"1\" class=\"dataframe\">\n",
       "  <thead>\n",
       "    <tr style=\"text-align: right;\">\n",
       "      <th></th>\n",
       "      <th>seed</th>\n",
       "      <th>train_rmse</th>\n",
       "      <th>val_rmse</th>\n",
       "      <th>test_rmse</th>\n",
       "    </tr>\n",
       "  </thead>\n",
       "  <tbody>\n",
       "    <tr>\n",
       "      <th>count</th>\n",
       "      <td>100.000000</td>\n",
       "      <td>100.000000</td>\n",
       "      <td>100.000000</td>\n",
       "      <td>100.000000</td>\n",
       "    </tr>\n",
       "    <tr>\n",
       "      <th>mean</th>\n",
       "      <td>49.500000</td>\n",
       "      <td>9.201701</td>\n",
       "      <td>10.385358</td>\n",
       "      <td>10.728745</td>\n",
       "    </tr>\n",
       "    <tr>\n",
       "      <th>std</th>\n",
       "      <td>29.011492</td>\n",
       "      <td>1.436256</td>\n",
       "      <td>3.362785</td>\n",
       "      <td>3.041826</td>\n",
       "    </tr>\n",
       "    <tr>\n",
       "      <th>min</th>\n",
       "      <td>0.000000</td>\n",
       "      <td>5.846301</td>\n",
       "      <td>5.824433</td>\n",
       "      <td>6.241481</td>\n",
       "    </tr>\n",
       "    <tr>\n",
       "      <th>25%</th>\n",
       "      <td>24.750000</td>\n",
       "      <td>7.937773</td>\n",
       "      <td>7.942764</td>\n",
       "      <td>8.372097</td>\n",
       "    </tr>\n",
       "    <tr>\n",
       "      <th>50%</th>\n",
       "      <td>49.500000</td>\n",
       "      <td>9.177128</td>\n",
       "      <td>9.173895</td>\n",
       "      <td>9.833169</td>\n",
       "    </tr>\n",
       "    <tr>\n",
       "      <th>75%</th>\n",
       "      <td>74.250000</td>\n",
       "      <td>10.524605</td>\n",
       "      <td>13.631752</td>\n",
       "      <td>12.878993</td>\n",
       "    </tr>\n",
       "    <tr>\n",
       "      <th>max</th>\n",
       "      <td>99.000000</td>\n",
       "      <td>11.949717</td>\n",
       "      <td>19.715849</td>\n",
       "      <td>18.686283</td>\n",
       "    </tr>\n",
       "  </tbody>\n",
       "</table>\n",
       "</div>"
      ],
      "text/plain": [
       "             seed  train_rmse    val_rmse   test_rmse\n",
       "count  100.000000  100.000000  100.000000  100.000000\n",
       "mean    49.500000    9.201701   10.385358   10.728745\n",
       "std     29.011492    1.436256    3.362785    3.041826\n",
       "min      0.000000    5.846301    5.824433    6.241481\n",
       "25%     24.750000    7.937773    7.942764    8.372097\n",
       "50%     49.500000    9.177128    9.173895    9.833169\n",
       "75%     74.250000   10.524605   13.631752   12.878993\n",
       "max     99.000000   11.949717   19.715849   18.686283"
      ]
     },
     "execution_count": 12,
     "metadata": {},
     "output_type": "execute_result"
    }
   ],
   "source": [
    "dfresult.describe() \n",
    "#Hence the average test RMSE over 100 run = 10.72+/-3.04\n",
    "#train rmse=9.20+/-1.43"
   ]
  },
  {
   "cell_type": "code",
   "execution_count": null,
   "id": "a7b34518",
   "metadata": {},
   "outputs": [],
   "source": []
  }
 ],
 "metadata": {
  "kernelspec": {
   "display_name": "Python 3",
   "language": "python",
   "name": "python3"
  },
  "language_info": {
   "codemirror_mode": {
    "name": "ipython",
    "version": 3
   },
   "file_extension": ".py",
   "mimetype": "text/x-python",
   "name": "python",
   "nbconvert_exporter": "python",
   "pygments_lexer": "ipython3",
   "version": "3.8.5"
  }
 },
 "nbformat": 4,
 "nbformat_minor": 5
}
